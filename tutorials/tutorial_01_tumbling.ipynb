{
 "cells": [
  {
   "cell_type": "code",
   "execution_count": 1,
   "id": "2e0f6151",
   "metadata": {},
   "outputs": [],
   "source": [
    "import numpy as np\n",
    "import matplotlib.pyplot as plt"
   ]
  },
  {
   "cell_type": "code",
   "execution_count": 2,
   "id": "923dabe6",
   "metadata": {},
   "outputs": [],
   "source": [
    "USETEX = False\n",
    "\n",
    "\n",
    "## Parameters figures\n",
    "if USETEX:\n",
    "    plt.rcParams['text.usetex'] = True\n",
    "    plt.rcParams['text.latex.preamble'] = r'\\usepackage{amsmath,amssymb} \\usepackage[squaren,Gray]{SIunits} \\usepackage{nicefrac}'\n",
    "    plt.rcParams['font.family'] = 'serif'\n",
    "    plt.rcParams['font.serif'] = 'cm'\n",
    "else:\n",
    "    plt.rcParams['font.sans-serif'] = \"Roboto\"\n",
    "    plt.rcParams['font.weight'] = \"light\"\n",
    "    plt.rcParams['font.family'] = \"sans-serif\" # always use sans-serif fonts\n",
    "\n",
    "#font size\n",
    "plt.rc('font', size=12)  # general font size\n",
    "plt.rc('axes', labelsize=11, titlesize=10, linewidth=1.)\n",
    "plt.rc('lines', markersize=8, markeredgewidth=0., linewidth=0.4)\n",
    "#plt.rc('legend', frameon=False, fancybox=False, numpoints=1, markerscale=1, \n",
    "#       fontsize=10, handlelength=0.6, handletextpad=0.6, labelspacing=0.3)\n",
    "plt.rc('xtick',  labelsize=12, direction='in', bottom='true', top='true')\n",
    "plt.rc('ytick',  labelsize=12, direction='in', left='true', right='true')\n",
    "plt.rc('savefig', bbox='tight', transparent=True, dpi=300) "
   ]
  },
  {
   "cell_type": "markdown",
   "id": "2796d1ce",
   "metadata": {},
   "source": [
    "# Experiments with t = 0.051mm (Triangles)"
   ]
  },
  {
   "cell_type": "code",
   "execution_count": 3,
   "id": "26f52a24",
   "metadata": {},
   "outputs": [],
   "source": [
    "triangles_width = np.array([0.0274, \n",
    "                            0.0228, \n",
    "                            0.0196, \n",
    "                            0.0172, \n",
    "                            0.0138])"
   ]
  },
  {
   "cell_type": "code",
   "execution_count": 4,
   "id": "08014943",
   "metadata": {},
   "outputs": [],
   "source": [
    "triangles_freq = np.array([12.6,\n",
    "                           15.3,\n",
    "                           17.7,\n",
    "                           20.1,\n",
    "                           24.5])"
   ]
  },
  {
   "cell_type": "markdown",
   "id": "0b6d3c09",
   "metadata": {},
   "source": [
    "# Experiments with t = 0.076 mm (Circles)"
   ]
  },
  {
   "cell_type": "code",
   "execution_count": 5,
   "id": "3bbe81df",
   "metadata": {},
   "outputs": [],
   "source": [
    "circles_width = np.array([0.0273, \n",
    "                          0.0230, \n",
    "                          0.0196, \n",
    "                          0.0179, \n",
    "                          0.0168,\n",
    "                          0.0139 ])"
   ]
  },
  {
   "cell_type": "code",
   "execution_count": 6,
   "id": "9454595b",
   "metadata": {},
   "outputs": [],
   "source": [
    "circles_freq = np.array([14.1,\n",
    "                         17.7,\n",
    "                         20.9,\n",
    "                         22.4,\n",
    "                         23.7,\n",
    "                         28.6])"
   ]
  },
  {
   "cell_type": "markdown",
   "id": "13058e18",
   "metadata": {},
   "source": [
    "# Experiments with t = 0.102 mm (Crosses)"
   ]
  },
  {
   "cell_type": "code",
   "execution_count": 7,
   "id": "8d174f37",
   "metadata": {},
   "outputs": [],
   "source": [
    "crosses_width = np.array([0.0274, \n",
    "                          0.0231, \n",
    "                          0.0193, \n",
    "                          0.0180, \n",
    "                          0.0171 ,\n",
    "                          0.0160, \n",
    "                          0.0138, \n",
    "                          0.0116])"
   ]
  },
  {
   "cell_type": "code",
   "execution_count": 8,
   "id": "d0cf98aa",
   "metadata": {},
   "outputs": [],
   "source": [
    "crosses_freq = np.array([16.7,\n",
    "                         20.1,\n",
    "                         24.0,\n",
    "                         25.6,\n",
    "                         27.4,\n",
    "                         28.0,\n",
    "                         33.2,\n",
    "                         39.4])"
   ]
  },
  {
   "cell_type": "markdown",
   "id": "597a68f8",
   "metadata": {},
   "source": [
    "# Experiments with t = 0.127 mm (Stars)"
   ]
  },
  {
   "cell_type": "code",
   "execution_count": 9,
   "id": "dcd4ff4d",
   "metadata": {},
   "outputs": [],
   "source": [
    "stars_width = np.array([0.0270, \n",
    "                        0.0226, \n",
    "                        0.0195, \n",
    "                        0.0178, \n",
    "                        0.0167,\n",
    "                        0.0137   , \n",
    "                        0.0118])"
   ]
  },
  {
   "cell_type": "code",
   "execution_count": 10,
   "id": "23d4dafd",
   "metadata": {},
   "outputs": [],
   "source": [
    "stars_freq = np.array([18.4,\n",
    "                       22.4,\n",
    "                       26.5,\n",
    "                       27.8,\n",
    "                       30.4,\n",
    "                       36.1,\n",
    "                       43.3])"
   ]
  },
  {
   "cell_type": "code",
   "execution_count": 11,
   "id": "b9a1af16",
   "metadata": {},
   "outputs": [
    {
     "data": {
      "text/plain": [
       "[<matplotlib.lines.Line2D at 0x7fcf1299f7f0>]"
      ]
     },
     "execution_count": 11,
     "metadata": {},
     "output_type": "execute_result"
    },
    {
     "data": {
      "image/png": "[encoded data removed]",
      "text/plain": [
       "<Figure size 720x720 with 1 Axes>"
      ]
     },
     "metadata": {
      "needs_background": "light"
     },
     "output_type": "display_data"
    }
   ],
   "source": [
    "fig = plt.figure(figsize=(10,10))\n",
    "ax = fig.add_subplot(111)\n",
    "\n",
    "ax.loglog(triangles_width, triangles_freq, '^')\n",
    "ax.loglog(circles_width, circles_freq, 'o')\n",
    "ax.loglog(crosses_width, crosses_freq, '+')\n",
    "ax.loglog(stars_width, stars_freq, '*')"
   ]
  },
  {
   "cell_type": "code",
   "execution_count": 18,
   "id": "26d0a560",
   "metadata": {},
   "outputs": [],
   "source": [
    "triangles_pi  = triangles_freq / np.sqrt(9.81/triangles_width)\n",
    "triangles_pi1 = 0.051*10**(-3) / triangles_width\n",
    "circles_pi  = circles_freq / np.sqrt(9.81/circles_width)\n",
    "circles_pi1 = 0.076*10**(-3) / circles_width\n",
    "crosses_pi  = crosses_freq / np.sqrt(9.81/crosses_width)\n",
    "crosses_pi1 = 0.102*10**(-3) / crosses_width\n",
    "stars_pi  = stars_freq / np.sqrt(9.81/stars_width)\n",
    "stars_pi1 = 0.127*10**(-3) / stars_width"
   ]
  },
  {
   "cell_type": "code",
   "execution_count": 28,
   "id": "c2522541",
   "metadata": {},
   "outputs": [
    {
     "data": {
      "text/plain": [
       "[<matplotlib.lines.Line2D at 0x7fcf156d1340>]"
      ]
     },
     "execution_count": 28,
     "metadata": {},
     "output_type": "execute_result"
    },
    {
     "data": {
      "image/png": "[encoded data removed]",
      "text/plain": [
       "<Figure size 720x720 with 1 Axes>"
      ]
     },
     "metadata": {
      "needs_background": "light"
     },
     "output_type": "display_data"
    }
   ],
   "source": [
    "fig = plt.figure(figsize=(10,10))\n",
    "ax = fig.add_subplot(111)\n",
    "\n",
    "ax.loglog(triangles_pi1, triangles_pi, '^')\n",
    "ax.loglog(circles_pi1, circles_pi, 'o')\n",
    "ax.loglog(crosses_pi1, crosses_pi, '+')\n",
    "ax.loglog(stars_pi1, stars_pi, '*')\n",
    "pts = np.linspace(2e-3,1e-2,100)\n",
    "ax.loglog(pts, 15*pts**(1/2))"
   ]
  },
  {
   "cell_type": "code",
   "execution_count": null,
   "id": "ced5ffdd",
   "metadata": {},
   "outputs": [],
   "source": []
  }
 ],
 "metadata": {
  "kernelspec": {
   "display_name": "Python 3 (ipykernel)",
   "language": "python",
   "name": "python3"
  },
  "language_info": {
   "codemirror_mode": {
    "name": "ipython",
    "version": 3
   },
   "file_extension": ".py",
   "mimetype": "text/x-python",
   "name": "python",
   "nbconvert_exporter": "python",
   "pygments_lexer": "ipython3",
   "version": "3.9.12"
  }
 },
 "nbformat": 4,
 "nbformat_minor": 5
}
