{
 "cells": [
  {
   "cell_type": "markdown",
   "id": "3b44ba27",
   "metadata": {},
   "source": [
    "# Starting Couette flow"
   ]
  },
  {
   "cell_type": "code",
   "execution_count": 1,
   "id": "054bb107",
   "metadata": {},
   "outputs": [],
   "source": [
    "import numpy as np\n",
    "from scipy import special\n",
    "import matplotlib.pyplot as plt"
   ]
  },
  {
   "cell_type": "code",
   "execution_count": null,
   "id": "c4675505",
   "metadata": {},
   "outputs": [],
   "source": [
    "def model(y, t, nterms):\n",
    "    velocity = np.zeros_like(y)\n",
    "    velocity[:] = y\n",
    "    for n in range(1, nterms+1):\n",
    "        velocity += (2. / (n * np.pi)) * (-1)**n * np.sin(n * np.pi * y) * np.exp(-n**2 * np.pi**2 * t)\n",
    "    return velocity"
   ]
  },
  {
   "cell_type": "code",
   "execution_count": null,
   "id": "2c011702",
   "metadata": {},
   "outputs": [],
   "source": [
    "def stress_model(y, t, nterms):\n",
    "    stress = 1\n",
    "    for n in range(1, nterms+1):\n",
    "        stress += 2. * (-1)**n * np.cos(n * np.pi * y) * np.exp(-n**2 * np.pi**2 * t)\n",
    "    return stress"
   ]
  },
  {
   "cell_type": "code",
   "execution_count": 9,
   "id": "ff9b84e1",
   "metadata": {},
   "outputs": [],
   "source": [
    "Npts = 100\n",
    "Tend = 0.01\n",
    "Ntimesteps = 100000\n",
    "t = np.linspace(0., Tend, Ntimesteps)\n",
    "deltat = t[1] - t[0]\n",
    "y = np.linspace(0., 1., Npts)\n",
    "deltay = y[1] - y[0]\n",
    "F = deltat/deltay**2\n",
    "u = np.zeros(Npts) # initial condition\n",
    "u_n = np.zeros(Npts) # initial condition\n",
    "u_n[0] = 0\n",
    "u_n[Npts-1] = 1"
   ]
  },
  {
   "cell_type": "code",
   "execution_count": null,
   "id": "9842213e",
   "metadata": {},
   "outputs": [],
   "source": [
    "bottom_stress = []\n",
    "bottom_stress_model = []\n",
    "top_stress = []\n",
    "top_stress_model = []\n",
    "time_plot = []\n",
    "plt.figure(figsize=(12,8))\n",
    "plt.xlim([0,5])\n",
    "for n in range(0, Ntimesteps):\n",
    "    for j in range(1, Npts-1):\n",
    "        u[j] = u_n[j] + F * (u_n[j-1] - 2 * u_n[j] + u_n[j+1])\n",
    "    u[0] = 0\n",
    "    u[Npts-1] = 1\n",
    "    u_n[:] = u[:]\n",
    "    if (n%10000 == 10):\n",
    "        #plt.plot(u,y)\n",
    "        plt.plot((1-y)/np.sqrt(n*deltat),u,'.') # /np.sqrt(n*deltat)\n",
    "        #plt.plot(model(y,n*deltat,30),y, '.')\n",
    "        #plt.show()\n",
    "    #if (n%100 == 0):\n",
    "     #   bottom_stress.append((u[1] - u[0]) / deltay)\n",
    "      #  bottom_stress_model.append(stress_model(0,n*deltat,3))\n",
    "       # top_stress.append((u[Npts-1] - u[Npts-2]) / deltay)\n",
    "        #top_stress_model.append(stress_model(1,n*deltat,1))\n",
    "        #time_plot.append(n*deltat)\n",
    "#plt.plot(time_plot, bottom_stress)\n",
    "#plt.plot(time_plot, bottom_stress_model)\n",
    "plt.plot((1-y)/np.sqrt(n*deltat),special.erfc((1-y)/np.sqrt(n*deltat)/2))"
   ]
  },
  {
   "cell_type": "markdown",
   "id": "f8861373",
   "metadata": {},
   "source": [
    "# Bin"
   ]
  },
  {
   "cell_type": "code",
   "execution_count": 10,
   "id": "72d2e4e5",
   "metadata": {},
   "outputs": [
    {
     "data": {
      "text/plain": [
       "[<matplotlib.lines.Line2D at 0x7fd942e8dc70>]"
      ]
     },
     "execution_count": 10,
     "metadata": {},
     "output_type": "execute_result"
    },
    {
     "data": {
      "image/png": "[encoded data removed]",
      "text/plain": [
       "<Figure size 432x288 with 1 Axes>"
      ]
     },
     "metadata": {
      "needs_background": "light"
     },
     "output_type": "display_data"
    }
   ],
   "source": [
    "colormap = plt.cm.gist_ncar\n",
    "plt.gca().set_prop_cycle(plt.cycler('color', plt.cm.jet(np.linspace(0, 1, num_plots))))\n",
    "\n",
    "# Set initial condition u(x,0) = I(x)\n",
    "for i in range(0, Npts+1):\n",
    "    u_n[i] = 0\n",
    "\n",
    "for n in range(0, 100000):\n",
    "    # Compute u at inner mesh points\n",
    "    for i in range(1, Npts):\n",
    "        u[i] = u_n[i] + F*(u_n[i-1] - 2*u_n[i] + u_n[i+1])\n",
    "\n",
    "    # Insert boundary conditions\n",
    "    u[0] = 0;  u[Npts] = 1\n",
    "\n",
    "    # Update u_n before next step\n",
    "    u_n[:]= u\n",
    "    if n>0:\n",
    "        eta[:]=x/np.sqrt(n*dt)\n",
    "    bottom_flux = (u[1]-u[0])/dx\n",
    "    top_flux = (u[Npts]-u[Npts-1])/dx\n",
    "    #if n in (10,20,50,100,200,500,1000,2000,5000):\n",
    "    #    plt.xlim([0,10])\n",
    "    #    plt.plot(eta, u)\n",
    "    #plt.plot(n*dt,bottom_flux,'k.')\n",
    "    if n%100==0:\n",
    "        plt.plot(n*dt,top_flux,'r.')\n",
    "plt.plot(t,1+2.0*np.exp(-np.pi*np.pi*t), 'k--')"
   ]
  },
  {
   "cell_type": "code",
   "execution_count": 63,
   "id": "7deef44f",
   "metadata": {},
   "outputs": [
    {
     "data": {
      "image/png": "[encoded data removed]",
      "text/plain": [
       "<Figure size 432x288 with 1 Axes>"
      ]
     },
     "metadata": {
      "needs_background": "light"
     },
     "output_type": "display_data"
    }
   ],
   "source": [
    "plt.xlim([0,1])\n",
    "plt.show()"
   ]
  },
  {
   "cell_type": "code",
   "execution_count": 19,
   "id": "e91928f3",
   "metadata": {},
   "outputs": [
    {
     "data": {
      "text/plain": [
       "[Text(0.5, 1.0, '$u$')]"
      ]
     },
     "execution_count": 19,
     "metadata": {},
     "output_type": "execute_result"
    },
    {
     "data": {
      "image/png": "[encoded data removed]",
      "text/plain": [
       "<Figure size 720x720 with 1 Axes>"
      ]
     },
     "metadata": {
      "needs_background": "light"
     },
     "output_type": "display_data"
    }
   ],
   "source": [
    "fig, ax = plt.subplots(figsize=(10,10))\n",
    "plt.rc('text', usetex=True)\n",
    "plt.rc('font', family='serif', size = 16)\n",
    "# ax.plot(x,y,'b.')  # plot grid points\n",
    "ax.set_aspect('equal')\n",
    "ax.plot(x, u, 'k', linewidth=3)\n",
    "ax.axis('off')\n",
    "ax.set(title=r'$u$')"
   ]
  },
  {
   "cell_type": "code",
   "execution_count": null,
   "id": "38e59e58",
   "metadata": {},
   "outputs": [],
   "source": []
  }
 ],
 "metadata": {
  "kernelspec": {
   "display_name": "Python 3",
   "language": "python",
   "name": "python3"
  },
  "language_info": {
   "codemirror_mode": {
    "name": "ipython",
    "version": 3
   },
   "file_extension": ".py",
   "mimetype": "text/x-python",
   "name": "python",
   "nbconvert_exporter": "python",
   "pygments_lexer": "ipython3",
   "version": "3.8.8"
  }
 },
 "nbformat": 4,
 "nbformat_minor": 5
}
